{
 "cells": [
  {
   "cell_type": "markdown",
   "metadata": {},
   "source": [
    "# MCVTS ¯\\\\_(ツ)_/¯ League History\n",
    "Established in 2013, this fantasy football league has a storied history spanning 18+ managers and 2 fantasy football platforms."
   ]
  },
  {
   "cell_type": "code",
   "execution_count": null,
   "metadata": {},
   "outputs": [],
   "source": [
    "# Don't mind me, just importing data.\n",
    "import pandas as pd\n",
    "\n",
    "managers = pd.read_csv(\"data/managers.csv\")\n",
    "players = pd.read_csv(\"data/players.csv\")\n",
    "\n",
    "finish = pd.read_csv(\"data/finish.csv\")\n",
    "finish = finish.merge(managers, on=\"manager_id\")\n",
    "\n",
    "games = pd.read_csv(\"data/games.csv\")\n",
    "games = games.merge(managers, on=\"manager_id\")\n",
    "\n",
    "lineups = pd.read_csv(\"data/lineups.csv\")\n",
    "lineups = lineups.merge(managers, on=\"manager_id\")\n",
    "lineups = lineups.merge(players, on=\"player_id\")\n",
    "\n",
    "seasons = pd.read_csv(\"data/seasons.csv\")\n",
    "seasons = seasons.merge(managers, on=\"manager_id\")"
   ]
  },
  {
   "cell_type": "markdown",
   "metadata": {},
   "source": [
    "# League champions\n",
    "Here, there be champions (and runner-ups)."
   ]
  },
  {
   "cell_type": "code",
   "execution_count": null,
   "metadata": {},
   "outputs": [],
   "source": [
    "champion_results = finish.loc[(finish['final_standing'] == 1) | (finish[\"final_standing\"] == 2)]\n",
    "champion_results = champion_results.sort_values(by=[\"season_id\", \"final_standing\"], ascending=[False, True])\n",
    "\n",
    "previous_season_id = None\n",
    "last_rank = None\n",
    "output = \"\"\n",
    "for _, row in champion_results.iterrows():\n",
    "    if row[\"season_id\"] != previous_season_id:\n",
    "        if output:\n",
    "            print(output + \")\")\n",
    "\n",
    "        output = f\"{row['season_id']}\"\n",
    "\n",
    "    current_rank = row[\"final_standing\"]\n",
    "    if current_rank == 1:\n",
    "        if last_rank == current_rank:\n",
    "            output += \",\"\n",
    "        \n",
    "        output += f\" {row['manager_name']}\"\n",
    "    else:\n",
    "        if last_rank == 1:\n",
    "            output += f\" ({row['manager_name']}\"\n",
    "        elif last_rank == 2:\n",
    "            output += f\", {row['manager_name']}\"\n",
    "\n",
    "    previous_season_id = row[\"season_id\"]\n",
    "    last_rank = current_rank\n",
    "\n",
    "print(output + \")\")"
   ]
  },
  {
   "cell_type": "markdown",
   "metadata": {},
   "source": [
    "# Most Championships\n",
    "The winningest winners!"
   ]
  },
  {
   "cell_type": "code",
   "execution_count": null,
   "metadata": {},
   "outputs": [],
   "source": [
    "champions = finish.loc[(finish['final_standing'] == 1)]\n",
    "champions = champions.groupby(['manager_id', 'manager_name'])[\"manager_id\"].count() \\\n",
    "    .reset_index(name=\"count\").sort_values(by=[\"count\", \"manager_name\"], ascending=[False, True])\n",
    "\n",
    "for _, row in champions.iterrows():\n",
    "    print(f\"{row['manager_name']} ({row['count']})\")"
   ]
  }
 ],
 "metadata": {
  "kernelspec": {
   "display_name": "Python 3.8.9 ('league-history-notebook')",
   "language": "python",
   "name": "python3"
  },
  "language_info": {
   "codemirror_mode": {
    "name": "ipython",
    "version": 3
   },
   "file_extension": ".py",
   "mimetype": "text/x-python",
   "name": "python",
   "nbconvert_exporter": "python",
   "pygments_lexer": "ipython3",
   "version": "3.8.9"
  },
  "vscode": {
   "interpreter": {
    "hash": "03318b7433bf42c8a8e2d19c142e42219cb4346d9a2f1d0b3b20d3384b34e265"
   }
  }
 },
 "nbformat": 4,
 "nbformat_minor": 2
}
