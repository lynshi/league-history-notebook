{
 "cells": [
  {
   "cell_type": "markdown",
   "metadata": {},
   "source": [
    "# MCVTS ¯\\\\_(ツ)_/¯ League History\n",
    "Established in 2013, this fantasy football league has a storied history spanning 18+ managers and 2 fantasy football platforms."
   ]
  },
  {
   "cell_type": "code",
   "execution_count": null,
   "metadata": {},
   "outputs": [],
   "source": [
    "# Don't mind me, just importing data.\n",
    "from datetime import datetime\n",
    "\n",
    "import pandas as pd\n",
    "from tabulate import tabulate\n",
    "\n",
    "managers = pd.read_csv(\"data/managers.csv\")\n",
    "players = pd.read_csv(\"data/players.csv\")\n",
    "\n",
    "finish = pd.read_csv(\"data/finish.csv\")\n",
    "finish = finish.merge(managers, on=\"manager_id\")\n",
    "\n",
    "games = pd.read_csv(\"data/games.csv\")\n",
    "games = games.merge(managers, on=\"manager_id\")\n",
    "\n",
    "playoff_start_weeks = []  # list of (season, first week of playoffs)\n",
    "for season in range(2013, 2021):\n",
    "    playoff_start_weeks.append((season, 15))\n",
    "for season in range(2021, datetime.now().year + 1):  # 17 week NFL seasons smh\n",
    "    playoff_start_weeks.append((season, 16))\n",
    "\n",
    "regular_season_games = games.copy(deep=True)\n",
    "for season, start_week in playoff_start_weeks:\n",
    "    regular_season_games = regular_season_games.drop(\n",
    "        regular_season_games[\n",
    "            (regular_season_games['season_id'] == season) &\n",
    "            (regular_season_games['week_id'] >= start_week)\n",
    "        ].index\n",
    "    )\n",
    "\n",
    "# The same game stats may be present multiple times if the opponent had co-managers, so ensure each\n",
    "# manager is only represented once here.\n",
    "regular_season_games_deduped = regular_season_games.drop_duplicates(\n",
    "    subset=['manager_id', 'season_id', 'week_id'],\n",
    "    keep='first',\n",
    ")\n",
    "\n",
    "lineups = pd.read_csv(\"data/lineups.csv\")\n",
    "lineups = lineups.merge(managers, on=\"manager_id\")\n",
    "lineups = lineups.merge(players, on=\"player_id\")\n",
    "\n",
    "seasons = pd.read_csv(\"data/seasons.csv\")\n",
    "seasons = seasons.merge(managers, on=\"manager_id\")\n",
    "seasons['total_games'] = seasons[['wins', 'ties', 'losses']].sum(axis=1)"
   ]
  },
  {
   "cell_type": "markdown",
   "metadata": {},
   "source": [
    "## League Members\n",
    "Here are all the members in the league, past and present."
   ]
  },
  {
   "cell_type": "code",
   "execution_count": null,
   "metadata": {},
   "outputs": [],
   "source": [
    "seasons_count = seasons.groupby(['manager_id', 'manager_name'])[\"manager_id\"].count() \\\n",
    "    .reset_index(name=\"num_seasons\") \\\n",
    "    .sort_values(by=[\"num_seasons\", \"manager_name\"], ascending=[False, True]) \\\n",
    "    [[\"manager_name\", \"num_seasons\"]]\n",
    "\n",
    "print(tabulate(seasons_count, headers='keys', tablefmt='psql', showindex=False))"
   ]
  },
  {
   "cell_type": "markdown",
   "metadata": {},
   "source": [
    "# League champions\n",
    "Here, there be champions (and runner-ups)."
   ]
  },
  {
   "cell_type": "code",
   "execution_count": null,
   "metadata": {},
   "outputs": [],
   "source": [
    "champion_results = finish.loc[(finish['final_standing'] == 1) | (finish[\"final_standing\"] == 2)]\n",
    "champion_results = champion_results.sort_values(by=[\"season_id\", \"final_standing\"], ascending=[False, True])\n",
    "\n",
    "previous_season_id = None\n",
    "last_rank = None\n",
    "output = \"\"\n",
    "for _, row in champion_results.iterrows():\n",
    "    if row[\"season_id\"] != previous_season_id:\n",
    "        if output:\n",
    "            print(output + \")\")\n",
    "\n",
    "        output = f\"{row['season_id']} -\"\n",
    "\n",
    "    current_rank = row[\"final_standing\"]\n",
    "    if current_rank == 1:\n",
    "        if last_rank == current_rank:\n",
    "            output += \",\"\n",
    "        \n",
    "        output += f\" {row['manager_name']}\"\n",
    "    else:\n",
    "        if last_rank == 1:\n",
    "            output += f\" ({row['manager_name']}\"\n",
    "        elif last_rank == 2:\n",
    "            output += f\", {row['manager_name']}\"\n",
    "\n",
    "    previous_season_id = row[\"season_id\"]\n",
    "    last_rank = current_rank\n",
    "\n",
    "print(output + \")\")"
   ]
  },
  {
   "cell_type": "markdown",
   "metadata": {},
   "source": [
    "# Most Championships\n",
    "The winningest winners!"
   ]
  },
  {
   "cell_type": "code",
   "execution_count": null,
   "metadata": {},
   "outputs": [],
   "source": [
    "champions = finish.loc[(finish['final_standing'] == 1)]\n",
    "champions = champions.groupby(['manager_id', 'manager_name'])[\"manager_id\"].count() \\\n",
    "    .reset_index(name=\"count\").sort_values(by=[\"count\", \"manager_name\"], ascending=[False, True]) \\\n",
    "    [[\"manager_name\", \"count\"]]\n",
    "\n",
    "print(tabulate(champions, headers='keys', tablefmt='psql', showindex=False))"
   ]
  },
  {
   "cell_type": "markdown",
   "metadata": {},
   "source": [
    "# Most Regular Seasons Wins\n",
    "Unfortunately, you don't get a trophy for this."
   ]
  },
  {
   "cell_type": "code",
   "execution_count": null,
   "metadata": {},
   "outputs": [],
   "source": [
    "wins_count = seasons.groupby(['manager_id', 'manager_name'])['wins'].sum() \\\n",
    "    .reset_index(name=\"total_wins\").sort_values(\n",
    "        by=['total_wins', 'manager_name'],\n",
    "        ascending=[False, True]\n",
    "    )[[\"manager_name\", \"total_wins\"]]\n",
    "\n",
    "print(tabulate(wins_count, headers='keys', tablefmt='psql', showindex=False))"
   ]
  },
  {
   "cell_type": "markdown",
   "metadata": {},
   "source": [
    "# Highest Regular Season Winning Percentage\n",
    "Some say wins are a longevity stat."
   ]
  },
  {
   "cell_type": "code",
   "execution_count": null,
   "metadata": {},
   "outputs": [],
   "source": [
    "total_wins = seasons.groupby(['manager_id', 'manager_name'])['wins'].sum() \\\n",
    "    .reset_index(name='total_wins').sort_values(by=['manager_id'], ascending=True)\n",
    "    \n",
    "total_games = seasons.groupby(['manager_id', 'manager_name'])['total_games'].sum() \\\n",
    "    .reset_index(name='total_games').sort_values(by=['manager_id'], ascending=True)\n",
    "\n",
    "win_percentage = total_wins[['manager_id', 'manager_name']]\n",
    "win_percentage['win_percentage'] = total_wins['total_wins'] / total_games['total_games']\n",
    "win_percentage = win_percentage.sort_values(\n",
    "        by=['win_percentage', 'manager_name'], \n",
    "        ascending=[False, True]\n",
    "    )[[\"manager_name\", \"win_percentage\"]]\n",
    "\n",
    "print(tabulate(win_percentage, headers='keys', tablefmt='psql', showindex=False))"
   ]
  },
  {
   "cell_type": "markdown",
   "metadata": {},
   "source": [
    "# Total Points Scored (Regular Season)\n",
    "The 2013 Denver Broncos scored the most points in the regular season but lost 43-8 in the Super Bowl."
   ]
  },
  {
   "cell_type": "code",
   "execution_count": null,
   "metadata": {},
   "outputs": [],
   "source": [
    "total_points_scored_from_seasons = \\\n",
    "    seasons.groupby(['manager_id', 'manager_name'])['points_for'].sum() \\\n",
    "        .reset_index(name='total_points').sort_values(\n",
    "            by=['total_points', 'manager_name'], ascending=[False, True]\n",
    "        )[[\"manager_name\", \"total_points\"]]\n",
    "\n",
    "print(tabulate(total_points_scored_from_seasons, headers='keys', tablefmt='psql', showindex=False))"
   ]
  },
  {
   "cell_type": "markdown",
   "metadata": {},
   "source": [
    "# Average Points Per Game (Regular Season)\n",
    "Against these managers, you're gonna have a bad time."
   ]
  },
  {
   "cell_type": "code",
   "execution_count": null,
   "metadata": {},
   "outputs": [],
   "source": [
    "total_points_scored_from_games = \\\n",
    "    regular_season_games_deduped.groupby(['manager_id', 'manager_name'])['points_for'].sum() \\\n",
    "        .reset_index(name='total_points').sort_values(by='manager_id', ascending=True)\n",
    "\n",
    "total_games_from_games = \\\n",
    "    regular_season_games_deduped.groupby(['manager_id', 'manager_name'])['manager_id'].count() \\\n",
    "        .reset_index(name='count').sort_values(by='manager_id', ascending=True)\n",
    "\n",
    "total_points_scored_from_games['points_per_game'] = \\\n",
    "    total_points_scored_from_games['total_points'] / \\\n",
    "    total_games_from_games['count']\n",
    "\n",
    "total_points_scored_from_games = total_points_scored_from_games.sort_values(\n",
    "    by=['points_per_game', 'manager_id'],\n",
    "    ascending=[False, True]\n",
    ")[['manager_name', 'points_per_game']]\n",
    "\n",
    "print(tabulate(total_points_scored_from_games, headers='keys', tablefmt='psql', showindex=False))"
   ]
  },
  {
   "cell_type": "markdown",
   "metadata": {},
   "source": [
    "# Average Points Against (Regular Season)\n",
    "Our unluckiest managers. Alternatively, the weakest defenses in the league 😤"
   ]
  },
  {
   "cell_type": "code",
   "execution_count": null,
   "metadata": {},
   "outputs": [],
   "source": [
    "total_points_against_from_games = \\\n",
    "    regular_season_games_deduped.groupby(['manager_id', 'manager_name'])['points_against'].sum() \\\n",
    "        .reset_index(name='total_points_against').sort_values(by='manager_id', ascending=True)\n",
    "\n",
    "total_games_from_games = \\\n",
    "    regular_season_games_deduped.groupby(['manager_id', 'manager_name'])['manager_id'].count() \\\n",
    "        .reset_index(name='count').sort_values(by='manager_id', ascending=True)\n",
    "\n",
    "total_points_against_from_games['points_against_per_game'] = \\\n",
    "    total_points_against_from_games['total_points_against'] / \\\n",
    "    total_games_from_games['count']\n",
    "\n",
    "total_points_against_from_games = total_points_against_from_games.sort_values(\n",
    "    by=['points_against_per_game', 'manager_id'],\n",
    "    ascending=[False, True]\n",
    ")[['manager_name', 'points_against_per_game']]\n",
    "\n",
    "print(tabulate(total_points_against_from_games, headers='keys', tablefmt='psql', showindex=False))"
   ]
  }
 ],
 "metadata": {
  "kernelspec": {
   "display_name": "Python 3.8.9 ('league-history-notebook')",
   "language": "python",
   "name": "python3"
  },
  "language_info": {
   "codemirror_mode": {
    "name": "ipython",
    "version": 3
   },
   "file_extension": ".py",
   "mimetype": "text/x-python",
   "name": "python",
   "nbconvert_exporter": "python",
   "pygments_lexer": "ipython3",
   "version": "3.8.9"
  },
  "vscode": {
   "interpreter": {
    "hash": "03318b7433bf42c8a8e2d19c142e42219cb4346d9a2f1d0b3b20d3384b34e265"
   }
  }
 },
 "nbformat": 4,
 "nbformat_minor": 2
}
